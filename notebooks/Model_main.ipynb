{
 "cells": [
  {
   "cell_type": "code",
   "execution_count": 3,
   "id": "cf9bcba3",
   "metadata": {},
   "outputs": [],
   "source": [
    "import sys\n",
    "import os\n",
    "import random\n",
    "import pandas as pd\n",
    "import numpy as np\n",
    "from sklearn.model_selection import train_test_split\n",
    "from sklearn.impute import SimpleImputer\n",
    "from sklearn.metrics import mean_squared_error, r2_score\n",
    "from sklearn.linear_model import LinearRegression\n",
    "from sklearn.ensemble import RandomForestRegressor\n",
    "from xgboost import XGBRegressor\n",
    "import shap\n",
    "import matplotlib.pyplot as plt\n",
    "\n",
    "sys.path.append(os.path.abspath('../scripts'))\n",
    "sys.path.append(os.path.abspath('../src')) \n",
    "\n",
    "from load_data import DataLoader\n",
    "import path \n",
    "\n",
    "from Hypothesis_Analysis import hypothesis\n",
    "from Data_preparation import DataPreparation\n",
    "from model_deve import Modeling\n",
    "from feature_importance import FeatureImportance\n"
   ]
  },
  {
   "cell_type": "code",
   "execution_count": null,
   "id": "f3563d15",
   "metadata": {},
   "outputs": [],
   "source": [
    "# Loading and reading text file using pandas\n",
    "csv_path = path.get_clead_data()\n",
    "data_load = DataLoader(csv_path)\n",
    "df = data_load.load_csv_data()"
   ]
  },
  {
   "cell_type": "code",
   "execution_count": 4,
   "id": "cd2a7bd4",
   "metadata": {},
   "outputs": [],
   "source": [
    "df = pd.read_csv('../../Data/cleaned_insurance_data.csv', low_memory=False)"
   ]
  },
  {
   "cell_type": "code",
   "execution_count": 5,
   "id": "58b408d2",
   "metadata": {},
   "outputs": [],
   "source": [
    "hypoth = hypothesis(df)"
   ]
  },
  {
   "cell_type": "markdown",
   "id": "0da7c710",
   "metadata": {},
   "source": [
    "## A/B Hypothesis Testing\n",
    "For this analysis, \"risk\" will be quantified by two metrics: Claim Frequency (proportion of policies with at least one claim) and Claim Severity (the average amount of a claim, given a claim occurred). \"Margin\" is defined as (TotalPremium - TotalClaims).\n"
   ]
  },
  {
   "cell_type": "code",
   "execution_count": null,
   "id": "3d7734ea",
   "metadata": {},
   "outputs": [],
   "source": [
    "# Performs ANOVA test across groups. Filters out any groups with only one unique value.\n",
    " #       Returns p-value or warning message."
   ]
  },
  {
   "cell_type": "code",
   "execution_count": 9,
   "id": "b30a2c60",
   "metadata": {},
   "outputs": [],
   "source": [
    "# Convert TotalPremium and TotalClaims to numeric\n",
    "df[\"TotalPremium\"] = pd.to_numeric(df[\"TotalPremium\"], errors=\"coerce\")\n",
    "df[\"TotalClaims\"] = pd.to_numeric(df[\"TotalClaims\"], errors=\"coerce\")"
   ]
  },
  {
   "cell_type": "code",
   "execution_count": 10,
   "id": "76b07061",
   "metadata": {},
   "outputs": [],
   "source": [
    "# Create new columns\n",
    "df[\"HasClaim\"] = df[\"TotalClaims\"] > 0\n",
    "df[\"Margin\"] = df[\"TotalPremium\"] - df[\"TotalClaims\"]"
   ]
  },
  {
   "cell_type": "markdown",
   "id": "c8420761",
   "metadata": {},
   "source": [
    "### 1. ANOVA: Risk differences across Provinces (Claim Frequency)"
   ]
  },
  {
   "cell_type": "code",
   "execution_count": 11,
   "id": "eec22b91",
   "metadata": {},
   "outputs": [],
   "source": [
    "from scipy.stats import ttest_ind, f_oneway\n",
    "province_groups = [group[\"HasClaim\"].astype(int) for _, group in df.groupby(\"Province\")]\n",
    "anova_province_risk = f_oneway(*province_groups)"
   ]
  },
  {
   "cell_type": "code",
   "execution_count": 12,
   "id": "b99415c9",
   "metadata": {},
   "outputs": [
    {
     "data": {
      "text/plain": [
       "np.float64(5.91210036318191e-19)"
      ]
     },
     "execution_count": 12,
     "metadata": {},
     "output_type": "execute_result"
    }
   ],
   "source": [
    "anova_province_risk.pvalue"
   ]
  },
  {
   "cell_type": "code",
   "execution_count": 13,
   "id": "a7d75711",
   "metadata": {},
   "outputs": [],
   "source": [
    "# 2. ANOVA: Risk differences between Zip Codes (Claim Frequency)\n",
    "zip_groups = [group[\"HasClaim\"].astype(int) for _, group in df.groupby(\"PostalCode\")]\n",
    "anova_zip_risk = f_oneway(*zip_groups)"
   ]
  },
  {
   "cell_type": "code",
   "execution_count": 14,
   "id": "59cb3eb1",
   "metadata": {},
   "outputs": [],
   "source": [
    "# 3. ANOVA: Margin differences between Zip Codes\n",
    "margin_groups = [group[\"Margin\"].dropna() for _, group in df.groupby(\"PostalCode\")]\n",
    "anova_zip_margin = f_oneway(*margin_groups)"
   ]
  },
  {
   "cell_type": "markdown",
   "id": "78c84e3e",
   "metadata": {},
   "source": [
    "### Performs T-test between Male and Female on claim risk"
   ]
  },
  {
   "cell_type": "code",
   "execution_count": 15,
   "id": "6fba7ac8",
   "metadata": {},
   "outputs": [],
   "source": [
    "# 4. T-test: Risk differences by Gender\n",
    "men = df[df[\"Gender\"] == \"Male\"][\"HasClaim\"].astype(int)\n",
    "women = df[df[\"Gender\"] == \"Female\"][\"HasClaim\"].astype(int)\n",
    "ttest_gender_risk = ttest_ind(men, women, nan_policy=\"omit\")"
   ]
  },
  {
   "cell_type": "code",
   "execution_count": 16,
   "id": "e336dd13",
   "metadata": {},
   "outputs": [
    {
     "data": {
      "text/plain": [
       "{'Province Risk ANOVA p-value': np.float64(5.91210036318191e-19),\n",
       " 'Zip Risk ANOVA p-value': np.float64(2.9076595484940585e-30),\n",
       " 'Zip Margin ANOVA p-value': np.float64(0.9976859758015036),\n",
       " 'Gender Risk T-test p-value': np.float64(0.8404980845002314)}"
      ]
     },
     "execution_count": 16,
     "metadata": {},
     "output_type": "execute_result"
    }
   ],
   "source": [
    "# Collect results\n",
    "results = {\n",
    "    \"Province Risk ANOVA p-value\": anova_province_risk.pvalue,\n",
    "    \"Zip Risk ANOVA p-value\": anova_zip_risk.pvalue,\n",
    "    \"Zip Margin ANOVA p-value\": anova_zip_margin.pvalue,\n",
    "    \"Gender Risk T-test p-value\": ttest_gender_risk.pvalue\n",
    "}\n",
    "\n",
    "results"
   ]
  },
  {
   "cell_type": "markdown",
   "id": "a298831c",
   "metadata": {},
   "source": [
    "### To perform controlled A/B testing on insurance plan features (e.g., AlarmImmobiliser, TrackingDevice, CoverType, etc.), we need to follow a clear and reproducible approach."
   ]
  },
  {
   "cell_type": "code",
   "execution_count": 18,
   "id": "5611eee6",
   "metadata": {},
   "outputs": [
    {
     "data": {
      "text/html": [
       "<div>\n",
       "<style scoped>\n",
       "    .dataframe tbody tr th:only-of-type {\n",
       "        vertical-align: middle;\n",
       "    }\n",
       "\n",
       "    .dataframe tbody tr th {\n",
       "        vertical-align: top;\n",
       "    }\n",
       "\n",
       "    .dataframe thead th {\n",
       "        text-align: right;\n",
       "    }\n",
       "</style>\n",
       "<table border=\"1\" class=\"dataframe\">\n",
       "  <thead>\n",
       "    <tr style=\"text-align: right;\">\n",
       "      <th></th>\n",
       "      <th>Unnamed: 0</th>\n",
       "      <th>TransactionMonth</th>\n",
       "      <th>IsVATRegistered</th>\n",
       "      <th>Citizenship</th>\n",
       "      <th>MaritalStatus</th>\n",
       "      <th>Gender</th>\n",
       "      <th>Province</th>\n",
       "      <th>PostalCode</th>\n",
       "      <th>VehicleType</th>\n",
       "      <th>RegistrationYear</th>\n",
       "      <th>...</th>\n",
       "      <th>CoverGroup</th>\n",
       "      <th>Section</th>\n",
       "      <th>Product</th>\n",
       "      <th>StatutoryClass</th>\n",
       "      <th>StatutoryRiskType</th>\n",
       "      <th>TotalPremium</th>\n",
       "      <th>TotalClaims</th>\n",
       "      <th>HasClaim</th>\n",
       "      <th>Margin</th>\n",
       "      <th>ClaimSeverity</th>\n",
       "    </tr>\n",
       "  </thead>\n",
       "  <tbody>\n",
       "    <tr>\n",
       "      <th>0</th>\n",
       "      <td>0</td>\n",
       "      <td>2015-03-01 00:00:00</td>\n",
       "      <td>True</td>\n",
       "      <td></td>\n",
       "      <td>Not specified</td>\n",
       "      <td>Not specified</td>\n",
       "      <td>Gauteng</td>\n",
       "      <td>1459</td>\n",
       "      <td>Passenger Vehicle</td>\n",
       "      <td>2004</td>\n",
       "      <td>...</td>\n",
       "      <td>Comprehensive - Taxi</td>\n",
       "      <td>Motor Comprehensive</td>\n",
       "      <td>Mobility Metered Taxis: Monthly</td>\n",
       "      <td>Commercial</td>\n",
       "      <td>IFRS Constant</td>\n",
       "      <td>21.929825</td>\n",
       "      <td>0.0</td>\n",
       "      <td>0</td>\n",
       "      <td>21.929825</td>\n",
       "      <td>0.0</td>\n",
       "    </tr>\n",
       "    <tr>\n",
       "      <th>1</th>\n",
       "      <td>1</td>\n",
       "      <td>2015-05-01 00:00:00</td>\n",
       "      <td>True</td>\n",
       "      <td></td>\n",
       "      <td>Not specified</td>\n",
       "      <td>Not specified</td>\n",
       "      <td>Gauteng</td>\n",
       "      <td>1459</td>\n",
       "      <td>Passenger Vehicle</td>\n",
       "      <td>2004</td>\n",
       "      <td>...</td>\n",
       "      <td>Comprehensive - Taxi</td>\n",
       "      <td>Motor Comprehensive</td>\n",
       "      <td>Mobility Metered Taxis: Monthly</td>\n",
       "      <td>Commercial</td>\n",
       "      <td>IFRS Constant</td>\n",
       "      <td>21.929825</td>\n",
       "      <td>0.0</td>\n",
       "      <td>0</td>\n",
       "      <td>21.929825</td>\n",
       "      <td>0.0</td>\n",
       "    </tr>\n",
       "    <tr>\n",
       "      <th>2</th>\n",
       "      <td>2</td>\n",
       "      <td>2015-07-01 00:00:00</td>\n",
       "      <td>True</td>\n",
       "      <td></td>\n",
       "      <td>Not specified</td>\n",
       "      <td>Not specified</td>\n",
       "      <td>Gauteng</td>\n",
       "      <td>1459</td>\n",
       "      <td>Passenger Vehicle</td>\n",
       "      <td>2004</td>\n",
       "      <td>...</td>\n",
       "      <td>Comprehensive - Taxi</td>\n",
       "      <td>Motor Comprehensive</td>\n",
       "      <td>Mobility Metered Taxis: Monthly</td>\n",
       "      <td>Commercial</td>\n",
       "      <td>IFRS Constant</td>\n",
       "      <td>0.000000</td>\n",
       "      <td>0.0</td>\n",
       "      <td>0</td>\n",
       "      <td>0.000000</td>\n",
       "      <td>0.0</td>\n",
       "    </tr>\n",
       "    <tr>\n",
       "      <th>3</th>\n",
       "      <td>3</td>\n",
       "      <td>2015-05-01 00:00:00</td>\n",
       "      <td>True</td>\n",
       "      <td></td>\n",
       "      <td>Not specified</td>\n",
       "      <td>Not specified</td>\n",
       "      <td>Gauteng</td>\n",
       "      <td>1459</td>\n",
       "      <td>Passenger Vehicle</td>\n",
       "      <td>2004</td>\n",
       "      <td>...</td>\n",
       "      <td>Comprehensive - Taxi</td>\n",
       "      <td>Motor Comprehensive</td>\n",
       "      <td>Mobility Metered Taxis: Monthly</td>\n",
       "      <td>Commercial</td>\n",
       "      <td>IFRS Constant</td>\n",
       "      <td>512.848070</td>\n",
       "      <td>0.0</td>\n",
       "      <td>0</td>\n",
       "      <td>512.848070</td>\n",
       "      <td>0.0</td>\n",
       "    </tr>\n",
       "    <tr>\n",
       "      <th>4</th>\n",
       "      <td>4</td>\n",
       "      <td>2015-07-01 00:00:00</td>\n",
       "      <td>True</td>\n",
       "      <td></td>\n",
       "      <td>Not specified</td>\n",
       "      <td>Not specified</td>\n",
       "      <td>Gauteng</td>\n",
       "      <td>1459</td>\n",
       "      <td>Passenger Vehicle</td>\n",
       "      <td>2004</td>\n",
       "      <td>...</td>\n",
       "      <td>Comprehensive - Taxi</td>\n",
       "      <td>Motor Comprehensive</td>\n",
       "      <td>Mobility Metered Taxis: Monthly</td>\n",
       "      <td>Commercial</td>\n",
       "      <td>IFRS Constant</td>\n",
       "      <td>0.000000</td>\n",
       "      <td>0.0</td>\n",
       "      <td>0</td>\n",
       "      <td>0.000000</td>\n",
       "      <td>0.0</td>\n",
       "    </tr>\n",
       "    <tr>\n",
       "      <th>...</th>\n",
       "      <td>...</td>\n",
       "      <td>...</td>\n",
       "      <td>...</td>\n",
       "      <td>...</td>\n",
       "      <td>...</td>\n",
       "      <td>...</td>\n",
       "      <td>...</td>\n",
       "      <td>...</td>\n",
       "      <td>...</td>\n",
       "      <td>...</td>\n",
       "      <td>...</td>\n",
       "      <td>...</td>\n",
       "      <td>...</td>\n",
       "      <td>...</td>\n",
       "      <td>...</td>\n",
       "      <td>...</td>\n",
       "      <td>...</td>\n",
       "      <td>...</td>\n",
       "      <td>...</td>\n",
       "      <td>...</td>\n",
       "      <td>...</td>\n",
       "    </tr>\n",
       "    <tr>\n",
       "      <th>1000093</th>\n",
       "      <td>1000093</td>\n",
       "      <td>2015-04-01 00:00:00</td>\n",
       "      <td>False</td>\n",
       "      <td>ZW</td>\n",
       "      <td>Single</td>\n",
       "      <td>Male</td>\n",
       "      <td>Western Cape</td>\n",
       "      <td>7493</td>\n",
       "      <td>Passenger Vehicle</td>\n",
       "      <td>2013</td>\n",
       "      <td>...</td>\n",
       "      <td>Comprehensive - Taxi</td>\n",
       "      <td>Motor Comprehensive</td>\n",
       "      <td>Mobility Commercial Cover: Monthly</td>\n",
       "      <td>Commercial</td>\n",
       "      <td>IFRS Constant</td>\n",
       "      <td>347.235175</td>\n",
       "      <td>0.0</td>\n",
       "      <td>0</td>\n",
       "      <td>347.235175</td>\n",
       "      <td>0.0</td>\n",
       "    </tr>\n",
       "    <tr>\n",
       "      <th>1000094</th>\n",
       "      <td>1000094</td>\n",
       "      <td>2015-06-01 00:00:00</td>\n",
       "      <td>False</td>\n",
       "      <td>ZW</td>\n",
       "      <td>Single</td>\n",
       "      <td>Male</td>\n",
       "      <td>Western Cape</td>\n",
       "      <td>7493</td>\n",
       "      <td>Passenger Vehicle</td>\n",
       "      <td>2013</td>\n",
       "      <td>...</td>\n",
       "      <td>Comprehensive - Taxi</td>\n",
       "      <td>Motor Comprehensive</td>\n",
       "      <td>Mobility Commercial Cover: Monthly</td>\n",
       "      <td>Commercial</td>\n",
       "      <td>IFRS Constant</td>\n",
       "      <td>347.235175</td>\n",
       "      <td>0.0</td>\n",
       "      <td>0</td>\n",
       "      <td>347.235175</td>\n",
       "      <td>0.0</td>\n",
       "    </tr>\n",
       "    <tr>\n",
       "      <th>1000095</th>\n",
       "      <td>1000095</td>\n",
       "      <td>2015-08-01 00:00:00</td>\n",
       "      <td>False</td>\n",
       "      <td>ZW</td>\n",
       "      <td>Single</td>\n",
       "      <td>Male</td>\n",
       "      <td>Western Cape</td>\n",
       "      <td>7493</td>\n",
       "      <td>Passenger Vehicle</td>\n",
       "      <td>2013</td>\n",
       "      <td>...</td>\n",
       "      <td>Comprehensive - Taxi</td>\n",
       "      <td>Motor Comprehensive</td>\n",
       "      <td>Mobility Commercial Cover: Monthly</td>\n",
       "      <td>Commercial</td>\n",
       "      <td>IFRS Constant</td>\n",
       "      <td>347.235175</td>\n",
       "      <td>0.0</td>\n",
       "      <td>0</td>\n",
       "      <td>347.235175</td>\n",
       "      <td>0.0</td>\n",
       "    </tr>\n",
       "    <tr>\n",
       "      <th>1000096</th>\n",
       "      <td>1000096</td>\n",
       "      <td>2014-07-01 00:00:00</td>\n",
       "      <td>False</td>\n",
       "      <td>ZW</td>\n",
       "      <td>Single</td>\n",
       "      <td>Male</td>\n",
       "      <td>Western Cape</td>\n",
       "      <td>7493</td>\n",
       "      <td>Passenger Vehicle</td>\n",
       "      <td>2013</td>\n",
       "      <td>...</td>\n",
       "      <td>Comprehensive - Taxi</td>\n",
       "      <td>Motor Comprehensive</td>\n",
       "      <td>Mobility Commercial Cover: Monthly</td>\n",
       "      <td>Commercial</td>\n",
       "      <td>IFRS Constant</td>\n",
       "      <td>2.315000</td>\n",
       "      <td>0.0</td>\n",
       "      <td>0</td>\n",
       "      <td>2.315000</td>\n",
       "      <td>0.0</td>\n",
       "    </tr>\n",
       "    <tr>\n",
       "      <th>1000097</th>\n",
       "      <td>1000097</td>\n",
       "      <td>2015-02-01 00:00:00</td>\n",
       "      <td>False</td>\n",
       "      <td>ZW</td>\n",
       "      <td>Single</td>\n",
       "      <td>Male</td>\n",
       "      <td>Western Cape</td>\n",
       "      <td>7493</td>\n",
       "      <td>Passenger Vehicle</td>\n",
       "      <td>2013</td>\n",
       "      <td>...</td>\n",
       "      <td>Comprehensive - Taxi</td>\n",
       "      <td>Motor Comprehensive</td>\n",
       "      <td>Mobility Commercial Cover: Monthly</td>\n",
       "      <td>Commercial</td>\n",
       "      <td>IFRS Constant</td>\n",
       "      <td>2.315000</td>\n",
       "      <td>0.0</td>\n",
       "      <td>0</td>\n",
       "      <td>2.315000</td>\n",
       "      <td>0.0</td>\n",
       "    </tr>\n",
       "  </tbody>\n",
       "</table>\n",
       "<p>1000098 rows × 37 columns</p>\n",
       "</div>"
      ],
      "text/plain": [
       "         Unnamed: 0     TransactionMonth  IsVATRegistered Citizenship  \\\n",
       "0                 0  2015-03-01 00:00:00             True               \n",
       "1                 1  2015-05-01 00:00:00             True               \n",
       "2                 2  2015-07-01 00:00:00             True               \n",
       "3                 3  2015-05-01 00:00:00             True               \n",
       "4                 4  2015-07-01 00:00:00             True               \n",
       "...             ...                  ...              ...         ...   \n",
       "1000093     1000093  2015-04-01 00:00:00            False          ZW   \n",
       "1000094     1000094  2015-06-01 00:00:00            False          ZW   \n",
       "1000095     1000095  2015-08-01 00:00:00            False          ZW   \n",
       "1000096     1000096  2014-07-01 00:00:00            False          ZW   \n",
       "1000097     1000097  2015-02-01 00:00:00            False          ZW   \n",
       "\n",
       "         MaritalStatus         Gender      Province  PostalCode  \\\n",
       "0        Not specified  Not specified       Gauteng        1459   \n",
       "1        Not specified  Not specified       Gauteng        1459   \n",
       "2        Not specified  Not specified       Gauteng        1459   \n",
       "3        Not specified  Not specified       Gauteng        1459   \n",
       "4        Not specified  Not specified       Gauteng        1459   \n",
       "...                ...            ...           ...         ...   \n",
       "1000093         Single           Male  Western Cape        7493   \n",
       "1000094         Single           Male  Western Cape        7493   \n",
       "1000095         Single           Male  Western Cape        7493   \n",
       "1000096         Single           Male  Western Cape        7493   \n",
       "1000097         Single           Male  Western Cape        7493   \n",
       "\n",
       "               VehicleType  RegistrationYear  ...            CoverGroup  \\\n",
       "0        Passenger Vehicle              2004  ...  Comprehensive - Taxi   \n",
       "1        Passenger Vehicle              2004  ...  Comprehensive - Taxi   \n",
       "2        Passenger Vehicle              2004  ...  Comprehensive - Taxi   \n",
       "3        Passenger Vehicle              2004  ...  Comprehensive - Taxi   \n",
       "4        Passenger Vehicle              2004  ...  Comprehensive - Taxi   \n",
       "...                    ...               ...  ...                   ...   \n",
       "1000093  Passenger Vehicle              2013  ...  Comprehensive - Taxi   \n",
       "1000094  Passenger Vehicle              2013  ...  Comprehensive - Taxi   \n",
       "1000095  Passenger Vehicle              2013  ...  Comprehensive - Taxi   \n",
       "1000096  Passenger Vehicle              2013  ...  Comprehensive - Taxi   \n",
       "1000097  Passenger Vehicle              2013  ...  Comprehensive - Taxi   \n",
       "\n",
       "                     Section                             Product  \\\n",
       "0        Motor Comprehensive     Mobility Metered Taxis: Monthly   \n",
       "1        Motor Comprehensive     Mobility Metered Taxis: Monthly   \n",
       "2        Motor Comprehensive     Mobility Metered Taxis: Monthly   \n",
       "3        Motor Comprehensive     Mobility Metered Taxis: Monthly   \n",
       "4        Motor Comprehensive     Mobility Metered Taxis: Monthly   \n",
       "...                      ...                                 ...   \n",
       "1000093  Motor Comprehensive  Mobility Commercial Cover: Monthly   \n",
       "1000094  Motor Comprehensive  Mobility Commercial Cover: Monthly   \n",
       "1000095  Motor Comprehensive  Mobility Commercial Cover: Monthly   \n",
       "1000096  Motor Comprehensive  Mobility Commercial Cover: Monthly   \n",
       "1000097  Motor Comprehensive  Mobility Commercial Cover: Monthly   \n",
       "\n",
       "         StatutoryClass  StatutoryRiskType TotalPremium  TotalClaims HasClaim  \\\n",
       "0            Commercial      IFRS Constant    21.929825          0.0        0   \n",
       "1            Commercial      IFRS Constant    21.929825          0.0        0   \n",
       "2            Commercial      IFRS Constant     0.000000          0.0        0   \n",
       "3            Commercial      IFRS Constant   512.848070          0.0        0   \n",
       "4            Commercial      IFRS Constant     0.000000          0.0        0   \n",
       "...                 ...                ...          ...          ...      ...   \n",
       "1000093      Commercial      IFRS Constant   347.235175          0.0        0   \n",
       "1000094      Commercial      IFRS Constant   347.235175          0.0        0   \n",
       "1000095      Commercial      IFRS Constant   347.235175          0.0        0   \n",
       "1000096      Commercial      IFRS Constant     2.315000          0.0        0   \n",
       "1000097      Commercial      IFRS Constant     2.315000          0.0        0   \n",
       "\n",
       "             Margin ClaimSeverity  \n",
       "0         21.929825           0.0  \n",
       "1         21.929825           0.0  \n",
       "2          0.000000           0.0  \n",
       "3        512.848070           0.0  \n",
       "4          0.000000           0.0  \n",
       "...             ...           ...  \n",
       "1000093  347.235175           0.0  \n",
       "1000094  347.235175           0.0  \n",
       "1000095  347.235175           0.0  \n",
       "1000096    2.315000           0.0  \n",
       "1000097    2.315000           0.0  \n",
       "\n",
       "[1000098 rows x 37 columns]"
      ]
     },
     "execution_count": 18,
     "metadata": {},
     "output_type": "execute_result"
    }
   ],
   "source": [
    "hypoth.compute_kpis()"
   ]
  },
  {
   "cell_type": "code",
   "execution_count": 13,
   "id": "89890ef6",
   "metadata": {},
   "outputs": [],
   "source": [
    "group_a, group_b = hypoth.create_ab_groups(\"Gender\", \"Male\", \"Female\")"
   ]
  },
  {
   "cell_type": "code",
   "execution_count": 14,
   "id": "8e2a2823",
   "metadata": {},
   "outputs": [
    {
     "name": "stdout",
     "output_type": "stream",
     "text": [
      "P-value for Margin difference between Male and Female: 0.8015464193501282\n"
     ]
    }
   ],
   "source": [
    "p_value = hypoth.compare_kpis(group_a, group_b, \"Margin\")\n",
    "print(\"P-value for Margin difference between Male and Female:\", p_value)"
   ]
  },
  {
   "cell_type": "code",
   "execution_count": 15,
   "id": "1e781d87",
   "metadata": {},
   "outputs": [],
   "source": [
    "results, size_a, size_b = hypoth.run_ab_test(\"Gender\", \"Male\", \"Female\")"
   ]
  },
  {
   "cell_type": "code",
   "execution_count": 16,
   "id": "eeffe5e5",
   "metadata": {},
   "outputs": [
    {
     "name": "stdout",
     "output_type": "stream",
     "text": [
      "Group Sizes -> A: 42817, B: 6755\n",
      "P-Values for KPIs:\n",
      "HasClaim (p-value): 0.8372\n",
      "ClaimSeverity (p-value): 0.7670\n",
      "Margin (p-value): 0.8015\n"
     ]
    }
   ],
   "source": [
    "print(f\"Group Sizes -> A: {size_a}, B: {size_b}\")\n",
    "print(\"P-Values for KPIs:\")\n",
    "for k, v in results.items():\n",
    "    print(f\"{k}: {v:.4f}\")"
   ]
  },
  {
   "cell_type": "markdown",
   "id": "21eaa2db",
   "metadata": {},
   "source": [
    "###\tStatistical Testing "
   ]
  },
  {
   "cell_type": "code",
   "execution_count": null,
   "id": "cab8078d",
   "metadata": {},
   "outputs": [],
   "source": [
    "hypoth.perform_t_test()"
   ]
  },
  {
   "cell_type": "code",
   "execution_count": null,
   "id": "1220742d",
   "metadata": {},
   "outputs": [],
   "source": [
    "hypoth.perform_chi_squared()"
   ]
  },
  {
   "cell_type": "code",
   "execution_count": 20,
   "id": "dcaeeba4",
   "metadata": {},
   "outputs": [
    {
     "name": "stdout",
     "output_type": "stream",
     "text": [
      "     Test Feature Group A Group B            KPI   P-Value Significant\n",
      "0  T-Test  Gender    Male  Female       HasClaim  0.837187          No\n",
      "1  T-Test  Gender    Male  Female  ClaimSeverity  0.766966          No\n",
      "2  T-Test  Gender    Male  Female         Margin  0.801546          No\n"
     ]
    }
   ],
   "source": [
    "# Example 1: T-Test between Male and Female on all KPIs\n",
    "results_gender = hypoth.run_all_tests(feature=\"Gender\", group_a_val=\"Male\", group_b_val=\"Female\")\n",
    "print(results_gender)"
   ]
  },
  {
   "cell_type": "code",
   "execution_count": 21,
   "id": "7ecfb1c1",
   "metadata": {},
   "outputs": [
    {
     "name": "stdout",
     "output_type": "stream",
     "text": [
      "          Test   Feature       KPI       P-Value Significant\n",
      "0  Chi-Squared  Province  HasClaim  5.925511e-19         Yes\n"
     ]
    }
   ],
   "source": [
    "# 2: Chi-Squared test for Province effect on claim frequency\n",
    "results_province = hypoth.run_all_tests(feature=\"Province\")\n",
    "print(results_province)"
   ]
  },
  {
   "cell_type": "code",
   "execution_count": 22,
   "id": "d9707a0e",
   "metadata": {},
   "outputs": [
    {
     "name": "stdout",
     "output_type": "stream",
     "text": [
      "          Test     Feature       KPI       P-Value Significant\n",
      "0  Chi-Squared  PostalCode  HasClaim  3.152172e-30         Yes\n"
     ]
    }
   ],
   "source": [
    "# 2: Chi-Squared test for Province effect on claim frequency\n",
    "results_PostalCode = hypoth.run_all_tests(feature=\"PostalCode\")\n",
    "print(results_PostalCode)"
   ]
  },
  {
   "cell_type": "markdown",
   "id": "bb23c043",
   "metadata": {},
   "source": [
    "# Statistical Modeling\n",
    "### Data Preparation"
   ]
  },
  {
   "cell_type": "code",
   "execution_count": 19,
   "id": "679ae0fe",
   "metadata": {},
   "outputs": [
    {
     "data": {
      "text/plain": [
       "Unnamed: 0                  0\n",
       "TransactionMonth            0\n",
       "IsVATRegistered             0\n",
       "Citizenship                 0\n",
       "MaritalStatus               0\n",
       "Gender                      0\n",
       "Province                    0\n",
       "PostalCode                  0\n",
       "VehicleType                 0\n",
       "RegistrationYear            0\n",
       "make                        0\n",
       "Model                       0\n",
       "Cylinders                   0\n",
       "cubiccapacity               0\n",
       "kilowatts                   0\n",
       "bodytype                    0\n",
       "NumberOfDoors               0\n",
       "VehicleIntroDate            0\n",
       "AlarmImmobiliser            0\n",
       "TrackingDevice              0\n",
       "CapitalOutstanding          0\n",
       "SumInsured                  0\n",
       "TermFrequency               0\n",
       "CalculatedPremiumPerTerm    0\n",
       "ExcessSelected              0\n",
       "CoverCategory               0\n",
       "CoverType                   0\n",
       "CoverGroup                  0\n",
       "Section                     0\n",
       "Product                     0\n",
       "StatutoryClass              0\n",
       "StatutoryRiskType           0\n",
       "TotalPremium                0\n",
       "TotalClaims                 0\n",
       "HasClaim                    0\n",
       "Margin                      0\n",
       "dtype: int64"
      ]
     },
     "execution_count": 19,
     "metadata": {},
     "output_type": "execute_result"
    }
   ],
   "source": [
    "df.isna().sum()"
   ]
  },
  {
   "cell_type": "code",
   "execution_count": 6,
   "id": "27d8d0d4",
   "metadata": {},
   "outputs": [],
   "source": [
    "# Convert the column to datetime format\n",
    "df[\"TransactionMonth\"] = pd.to_datetime(df[\"TransactionMonth\"])"
   ]
  },
  {
   "cell_type": "code",
   "execution_count": 7,
   "id": "1acda7d3",
   "metadata": {},
   "outputs": [],
   "source": [
    "df = df.drop(\"Unnamed: 0\", axis=1)"
   ]
  },
  {
   "cell_type": "code",
   "execution_count": 8,
   "id": "e76f0686",
   "metadata": {},
   "outputs": [],
   "source": [
    "df = df.drop(columns=['Citizenship', 'MaritalStatus', 'Gender', 'make','CoverType', 'CoverGroup', 'Section', 'Model', 'TermFrequency',\n",
    "                       'StatutoryClass', 'CapitalOutstanding', 'ExcessSelected', 'CoverCategory', 'StatutoryRiskType', \n",
    "                       'bodytype' ], axis=1)"
   ]
  },
  {
   "cell_type": "code",
   "execution_count": null,
   "id": "58d07769",
   "metadata": {},
   "outputs": [
    {
     "name": "stdout",
     "output_type": "stream",
     "text": [
      "\n",
      "Value counts for 'Province':\n",
      "Province\n",
      "Gauteng          393865\n",
      "Western Cape     170796\n",
      "KwaZulu-Natal    169781\n",
      "North West       143287\n",
      "Mpumalanga        52718\n",
      "Eastern Cape      30336\n",
      "Limpopo           24836\n",
      "Free State         8099\n",
      "Northern Cape      6380\n",
      "Name: count, dtype: int64\n",
      "\n",
      "Value counts for 'VehicleType':\n",
      "VehicleType\n",
      "Passenger Vehicle    934150\n",
      "Medium Commercial     53985\n",
      "Heavy Commercial       7401\n",
      "Light Commercial       3897\n",
      "Bus                     665\n",
      "Name: count, dtype: int64\n",
      "\n",
      "Value counts for 'AlarmImmobiliser':\n",
      "AlarmImmobiliser\n",
      "Yes    999861\n",
      "No        237\n",
      "Name: count, dtype: int64\n",
      "\n",
      "Value counts for 'TrackingDevice':\n",
      "TrackingDevice\n",
      "No     656617\n",
      "Yes    343481\n",
      "Name: count, dtype: int64\n",
      "\n",
      "Value counts for 'Product':\n",
      "Product\n",
      "Mobility Commercial Cover: Monthly    915028\n",
      "Mobility Metered Taxis: Monthly        79272\n",
      "Bridge Taxi Finance: Monthly            5254\n",
      "Standalone Passenger Liability           544\n",
      "Name: count, dtype: int64\n"
     ]
    }
   ],
   "source": [
    "# Automatically detect categorical (object or category) columns\n",
    "categorical_cols = df.select_dtypes(include=[\"object\", \"category\"]).columns\n",
    "\n",
    "# Count values for each categorical column\n",
    "for col in categorical_cols:\n",
    "    print(f\"\\nValue counts for '{col}':\")\n",
    "    print(df[col].value_counts())"
   ]
  },
  {
   "cell_type": "code",
   "execution_count": 9,
   "id": "eb6babd4",
   "metadata": {},
   "outputs": [],
   "source": [
    "\n",
    "preparation = DataPreparation()\n",
    "model = Modeling()\n",
    "plot = FeatureImportance()"
   ]
  },
  {
   "cell_type": "code",
   "execution_count": 10,
   "id": "c33bd89e",
   "metadata": {},
   "outputs": [
    {
     "data": {
      "text/plain": [
       "Series([], dtype: int64)"
      ]
     },
     "execution_count": 10,
     "metadata": {},
     "output_type": "execute_result"
    }
   ],
   "source": [
    "# Imputes missing numerical and categorical values.\n",
    "df = preparation.handle_missing_data(df)\n",
    "df.isna().sum()[df.isna().sum() > 0]"
   ]
  },
  {
   "cell_type": "code",
   "execution_count": 11,
   "id": "3fb0446e",
   "metadata": {},
   "outputs": [
    {
     "name": "stderr",
     "output_type": "stream",
     "text": [
      "c:\\Users\\Specter\\Documents\\Tenx_Academy\\Week 3\\AlphaCare_car_insurance\\scripts\\Data_preparation.py:39: UserWarning: Could not infer format, so each element will be parsed individually, falling back to `dateutil`. To ensure parsing is consistent and as-expected, please specify a format.\n",
      "  df['VehicleIntroDate'] = pd.to_datetime(df['VehicleIntroDate'])\n"
     ]
    }
   ],
   "source": [
    "# Create new features relevant to TotalPremium and TotalClaims\n",
    "df = preparation.feature_engineering(df)"
   ]
  },
  {
   "cell_type": "code",
   "execution_count": 12,
   "id": "834b9716",
   "metadata": {},
   "outputs": [
    {
     "data": {
      "text/plain": [
       "(1000098, 21)"
      ]
     },
     "execution_count": 12,
     "metadata": {},
     "output_type": "execute_result"
    }
   ],
   "source": [
    "df.shape"
   ]
  },
  {
   "cell_type": "markdown",
   "id": "3eb6f156",
   "metadata": {},
   "source": [
    "### Encoding Categorical Data: Convert categorical data into a numeric format using one-hot encoding or label encoding to make it suitable for modeling."
   ]
  },
  {
   "cell_type": "code",
   "execution_count": 13,
   "id": "855d8a47",
   "metadata": {},
   "outputs": [
    {
     "data": {
      "text/plain": [
       "(1000098, 33)"
      ]
     },
     "execution_count": 13,
     "metadata": {},
     "output_type": "execute_result"
    }
   ],
   "source": [
    "# One-hot encodes categorical variables.\n",
    "df = preparation.categorical_encoding(df)\n",
    "df.shape"
   ]
  },
  {
   "cell_type": "code",
   "execution_count": 14,
   "id": "5f964255",
   "metadata": {},
   "outputs": [
    {
     "name": "stdout",
     "output_type": "stream",
     "text": [
      "(800078, 31) (200020, 31) (800078,) (200020,)\n"
     ]
    }
   ],
   "source": [
    "## Splits the dataset into training and testing sets\n",
    "\n",
    "X_train, X_test, y_train, y_test  = preparation.Train_Test_Split(df, 0.2)\n",
    "print(X_train.shape, X_test.shape, y_train.shape, y_test.shape)"
   ]
  },
  {
   "cell_type": "markdown",
   "id": "1ff3bced",
   "metadata": {},
   "source": [
    "# Modeling Techniques\n",
    "## Linear Regression"
   ]
  },
  {
   "cell_type": "code",
   "execution_count": 15,
   "id": "6df72ae3",
   "metadata": {},
   "outputs": [
    {
     "name": "stdout",
     "output_type": "stream",
     "text": [
      "Mean Squared Error: 1963853.076117056\n",
      "Mean Absolute Error: 79.01400897091249\n",
      "Root Mean Squared Error: 1401.3754229745346\n",
      "R-squared: 0.5980971131827577\n"
     ]
    }
   ],
   "source": [
    "lin_reg = model.linear_regression(X_train, y_train)\n",
    "y_pred = model.model_performamnce(lin_reg, X_test, y_test)"
   ]
  },
  {
   "cell_type": "markdown",
   "id": "8d41dbb8",
   "metadata": {},
   "source": [
    "## Decision Trees"
   ]
  },
  {
   "cell_type": "code",
   "execution_count": 16,
   "id": "8bb7bdf1",
   "metadata": {},
   "outputs": [
    {
     "name": "stdout",
     "output_type": "stream",
     "text": [
      "Mean Squared Error: 157046.14516155\n",
      "Mean Absolute Error: 4.4596627574084495\n",
      "Root Mean Squared Error: 396.29048078593814\n",
      "R-squared: 0.967860478020717\n"
     ]
    }
   ],
   "source": [
    "dt_reg = model.decision_tree(X_train, y_train)\n",
    "y_pred_dt = model.model_performamnce(dt_reg, X_test, y_test)"
   ]
  },
  {
   "cell_type": "markdown",
   "id": "ea9f88e4",
   "metadata": {},
   "source": [
    "## Random Forests"
   ]
  },
  {
   "cell_type": "code",
   "execution_count": null,
   "id": "58c9ed70",
   "metadata": {},
   "outputs": [],
   "source": [
    "rf_reg = model.random_forest(X_train, y_train)\n",
    "y_pred_rf = model.model_performamnce(rf_reg, X_test, y_test)"
   ]
  },
  {
   "cell_type": "markdown",
   "id": "5efd1dd4",
   "metadata": {},
   "source": [
    "## Gradient Boosting"
   ]
  },
  {
   "cell_type": "code",
   "execution_count": 33,
   "id": "a5408e16",
   "metadata": {},
   "outputs": [
    {
     "name": "stdout",
     "output_type": "stream",
     "text": [
      "Mean Squared Error: 6089800.217714862\n",
      "Mean Absolute Error: 150.15704223269717\n",
      "Root Mean Squared Error: 2467.7520575849717\n",
      "R-squared: -0.24627871473924334\n"
     ]
    }
   ],
   "source": [
    "xgb_reg = model.XGBRegressor_model(X_train, y_train)\n",
    "y_pred_xgb = model.model_performamnce(xgb_reg, X_test, y_test)"
   ]
  },
  {
   "cell_type": "markdown",
   "id": "00a4e631",
   "metadata": {},
   "source": [
    "## Feature Importance Analysis\n",
    "Analyze which features are most influential in predicting retention."
   ]
  },
  {
   "cell_type": "code",
   "execution_count": null,
   "id": "1910b2a0",
   "metadata": {},
   "outputs": [],
   "source": [
    "# Define the models\n",
    "models = [\n",
    "    (\"Linear Regression\", lin_reg), \n",
    "    # (\"Decision Tree Regressor\", dt_reg), \n",
    "    # (\"Random Forest Regressor\", rf_reg), \n",
    "    # (\"XGBoost Regressor\", xgb_reg)\n",
    "]\n",
    "\n",
    "# Example usage:\n",
    "plot.plot_feature_importance(models, X_train)"
   ]
  },
  {
   "cell_type": "code",
   "execution_count": null,
   "id": "c1c90ba6",
   "metadata": {},
   "outputs": [],
   "source": [
    "plot.feature_importance(xgb_reg, X_train, \"'XGBoost Feature Importance'\")"
   ]
  },
  {
   "cell_type": "code",
   "execution_count": null,
   "id": "ca074e2e",
   "metadata": {},
   "outputs": [],
   "source": [
    "import matplotlib.pyplot as plt\n",
    "import numpy as np\n",
    "\n",
    "# Get feature importance from Random Forest model\n",
    "feat_importance_rf = rf_reg.feature_importances_\n",
    "feat_names = X_train.columns\n",
    "\n",
    "# Create a DataFrame for easier sorting\n",
    "feature_importance_df = pd.DataFrame({\n",
    "    'Feature': feat_names,\n",
    "    'Importance': feat_importance_rf\n",
    "})\n",
    "\n",
    "# Sort by importance in descending order and get the top 30 features\n",
    "top_10_features = feature_importance_df.sort_values(by='Importance', ascending=False)[1:10]\n",
    "\n",
    "# Plot the top 30 features\n",
    "plt.figure(figsize=(10, 8))\n",
    "plt.barh(top_10_features['Feature'], top_10_features['Importance'])\n",
    "plt.xlabel('Feature Importance')\n",
    "plt.title('Top 10 Random Forest Feature Importance')\n",
    "plt.gca().invert_yaxis()  \n",
    "plt.show()"
   ]
  },
  {
   "cell_type": "code",
   "execution_count": null,
   "id": "f7eb1c69",
   "metadata": {},
   "outputs": [],
   "source": [
    "# Get feature importance from Random Forest model\n",
    "feat_importance_rf = dt_reg.feature_importances_\n",
    "feat_names = X_train.columns\n",
    "\n",
    "# Create a DataFrame for easier sorting\n",
    "feature_importance_df = pd.DataFrame({\n",
    "    'Feature': feat_names,\n",
    "    'Importance': feat_importance_rf\n",
    "})\n",
    "\n",
    "# Sort by importance in descending order and get the top 30 features\n",
    "top_10_features = feature_importance_df.sort_values(by='Importance', ascending=False)[1:10]\n",
    "\n",
    "# Plot the top 30 features\n",
    "plt.figure(figsize=(10, 8))\n",
    "plt.barh(top_10_features['Feature'], top_10_features['Importance'])\n",
    "plt.xlabel('Feature Importance')\n",
    "plt.title('Top 10 Linear regression Feature Importance')\n",
    "plt.gca().invert_yaxis()  \n",
    "plt.show()"
   ]
  }
 ],
 "metadata": {
  "kernelspec": {
   "display_name": "Python 3",
   "language": "python",
   "name": "python3"
  },
  "language_info": {
   "codemirror_mode": {
    "name": "ipython",
    "version": 3
   },
   "file_extension": ".py",
   "mimetype": "text/x-python",
   "name": "python",
   "nbconvert_exporter": "python",
   "pygments_lexer": "ipython3",
   "version": "3.12.8"
  }
 },
 "nbformat": 4,
 "nbformat_minor": 5
}
